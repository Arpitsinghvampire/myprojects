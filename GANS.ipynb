{
  "nbformat": 4,
  "nbformat_minor": 0,
  "metadata": {
    "colab": {
      "provenance": [],
      "authorship_tag": "ABX9TyNNt7znpaW7DEt8Zz8Rv6Mv",
      "include_colab_link": true
    },
    "kernelspec": {
      "name": "python3",
      "display_name": "Python 3"
    },
    "language_info": {
      "name": "python"
    }
  },
  "cells": [
    {
      "cell_type": "markdown",
      "metadata": {
        "id": "view-in-github",
        "colab_type": "text"
      },
      "source": [
        "<a href=\"https://colab.research.google.com/github/Arpitsinghvampire/myprojects/blob/main/GANS.ipynb\" target=\"_parent\"><img src=\"https://colab.research.google.com/assets/colab-badge.svg\" alt=\"Open In Colab\"/></a>"
      ]
    },
    {
      "cell_type": "code",
      "execution_count": null,
      "metadata": {
        "colab": {
          "base_uri": "https://localhost:8080/"
        },
        "id": "VaKx0ny8L6uX",
        "outputId": "19793c7c-8e8b-413f-faad-a1af444c808c"
      },
      "outputs": [
        {
          "output_type": "execute_result",
          "data": {
            "text/plain": [
              "2"
            ]
          },
          "metadata": {},
          "execution_count": 119
        }
      ],
      "source": [
        "import tensorflow as tf\n",
        "import tensorflow_datasets as tfds\n",
        "import numpy as np\n",
        "import matplotlib.pyplot as plt\n",
        "\n",
        "ds=tfds.load('fashion_mnist',split='train')\n",
        "#the load function basically creates a pipeline through which we can access the data\n",
        "#this creates a link for getting the next subsequent value\n",
        "ds.as_numpy_iterator().next()['label']"
      ]
    },
    {
      "cell_type": "code",
      "source": [
        "data_iterator=ds.as_numpy_iterator()\n",
        "data_iterator.next()['image'].shape # the original shape is 28x28x1\n",
        "#we use squeeze to condense this extra dimension\n",
        "np.squeeze(data_iterator.next()['image']).shape\n",
        "#this reduces the dimension to 28x28 , thus reducing one dimension\n"
      ],
      "metadata": {
        "colab": {
          "base_uri": "https://localhost:8080/"
        },
        "id": "02EQXT4fM3L2",
        "outputId": "d3597ea9-c704-41a3-e452-7c0ce5946791"
      },
      "execution_count": null,
      "outputs": [
        {
          "output_type": "execute_result",
          "data": {
            "text/plain": [
              "(28, 28)"
            ]
          },
          "metadata": {},
          "execution_count": 120
        }
      ]
    },
    {
      "cell_type": "markdown",
      "source": [
        "HERE WE VISUALIZE THE DATA"
      ],
      "metadata": {
        "id": "PpzicmSPQhlJ"
      }
    },
    {
      "cell_type": "code",
      "source": [
        "#now we create a subplot\n",
        "\n",
        "fig,ax=plt.subplots(ncols=4,figsize=(20,20)) #size of the plot and the number of columns\n",
        "#ax is the individual subplot\n",
        "#we loop 4 times to get four images\n",
        "#each contains the image and the label\n",
        "for idx in range(4):\n",
        "  #grab an image and a label\n",
        "  batch=data_iterator.next()\n",
        "  #here squeeze reduces the dimension from 28x28x1 to 28x28\n",
        "  #plot the image using a specific subplot\n",
        "  ax[idx].imshow(np.squeeze(batch['image'])) #this prints the image\n",
        "  ax[idx].title.set_text(batch['label']) #this contains the label"
      ],
      "metadata": {
        "colab": {
          "base_uri": "https://localhost:8080/",
          "height": 176
        },
        "id": "5LfdfE6kNQhk",
        "outputId": "6bfae3c2-0633-4c53-c6a0-e70b35ca9191"
      },
      "execution_count": null,
      "outputs": [
        {
          "output_type": "display_data",
          "data": {
            "text/plain": [
              "<Figure size 2000x2000 with 4 Axes>"
            ],
            "image/png": "[encoded data removed]"
          },
          "metadata": {}
        }
      ]
    },
    {
      "cell_type": "markdown",
      "source": [
        "PREPROCESS THE IMAGE"
      ],
      "metadata": {
        "id": "Uvpy8QPhQtxl"
      }
    },
    {
      "cell_type": "code",
      "source": [
        "#the deep learning algorithm works better when the data is normal that is every\n",
        "#thing is in the range 0 to 1 , hence we transform the data\n",
        "# here we scale and return the image only\n",
        "\n",
        "def scale_images(data):\n",
        "  image=data['image']\n",
        "  return image/255 # we bring everything to the range 0 to 1\n",
        "  #by divinding the quantity with the max possible value"
      ],
      "metadata": {
        "id": "0ChG6RKnQs3Q"
      },
      "execution_count": null,
      "outputs": []
    },
    {
      "cell_type": "markdown",
      "source": [
        "before building a datapipeline before tensorflow we do the following things\n",
        "1->map\n",
        "2->cache\n",
        "3->shuffle\n",
        "4->batch\n",
        "5->prefetch"
      ],
      "metadata": {
        "id": "0DXDA8pkSgPg"
      }
    },
    {
      "cell_type": "code",
      "source": [
        "ds=tfds.load('fashion_mnist',split='train') #we again reload the data\n",
        "ds=ds.map(scale_images)\n",
        "#here we run the data through the scaled images data pipeline\n",
        "ds=ds.cache()\n",
        "#cache the data for the batch\n",
        "ds=ds.shuffle(60000)\n",
        "#shuffle the dataset for getting the random images\n",
        "ds=ds.batch(128)\n",
        "#create a batch of 128 images per sample\n",
        "ds=ds.prefetch(64)\n",
        "#we then prefetch which reduces the likelihood of bottlenecking"
      ],
      "metadata": {
        "id": "ssZUdcPBTFAX"
      },
      "execution_count": null,
      "outputs": []
    },
    {
      "cell_type": "code",
      "source": [
        "ds.as_numpy_iterator().next().shape\n",
        "#here the size is 128x28x28x1 because each sample now contains 128 images\n",
        "#and the size of each image is 28x28x1  , 28 along the x axis, 28 along the y\n",
        "#and 1 along the z axis(it has only one color channel)"
      ],
      "metadata": {
        "colab": {
          "base_uri": "https://localhost:8080/"
        },
        "id": "oLwIkGqQUW8E",
        "outputId": "bc3bf9ee-d19b-4ae3-d2cf-63f7f86b19c4"
      },
      "execution_count": null,
      "outputs": [
        {
          "output_type": "execute_result",
          "data": {
            "text/plain": [
              "(128, 28, 28, 1)"
            ]
          },
          "metadata": {},
          "execution_count": 124
        }
      ]
    },
    {
      "cell_type": "markdown",
      "source": [
        "BUILD A NEURAL NETWORK\n"
      ],
      "metadata": {
        "id": "Sa5TjJy8QniG"
      }
    },
    {
      "cell_type": "code",
      "source": [
        "#GANS has two model one model is the generator and the other is the disciminator\n",
        "#the generator generates fake images and the disciminator detects the fake image and the real images\n",
        "from tensorflow.keras.models import Sequential #api\n",
        "from tensorflow.keras.layers import Conv2D,Dense,Flatten,Reshape,LeakyReLU,Dropout,UpSampling2D\n",
        "\n",
        "#conv2d brings in the convolution layers\n",
        "#dense layers brings fully connected layers\n",
        "#flatten changes the dimension of the data to a single dimension\n",
        "#reshape reshapes the data\n",
        "#leakyrelu is an activation function\n",
        "#dropout is the regularization function which helps us in reducing the overfitting\n",
        "#upsampling upsamples the data from a lower value to a higher value\n",
        "\n"
      ],
      "metadata": {
        "id": "SMsq8cncPmzD"
      },
      "execution_count": null,
      "outputs": []
    },
    {
      "cell_type": "markdown",
      "source": [
        "NOW WE BUILD THE GENERATOR"
      ],
      "metadata": {
        "id": "EobVoah7XQGQ"
      }
    },
    {
      "cell_type": "code",
      "source": [
        "def build_generator():\n",
        "  model=Sequential()\n",
        "  model.add(Dense(7*7*128,input_dim=128)) #generate images on the basis of 128 value also known as latent space\n",
        "  model.add(LeakyReLU(0.2))\n",
        "  model.add(Reshape((7,7,128))) #the ouput of the first layer is 7x7x128\n",
        "  #our image is of the dimanesion 28x28x1 , therfore we introduce more layers\n",
        "  model.add(UpSampling2D()) #this increases the dimension to 14x14x128\n",
        "  model.add(Conv2D(128,5,padding='same')) #kernel size is 5x5 and preserve the number of units=128\n",
        "  model.add(LeakyReLU(0.2))\n",
        "\n",
        "  model.add(UpSampling2D()) #this increases the dimension to 28x28x128\n",
        "  model.add(Conv2D(1,5,padding='same')) #kernel size is 5x5 and number of units=1\n",
        "  model.add(LeakyReLU(0.2))\n",
        "  #the size of the image becomes 28x28x1\n",
        "\n",
        "  #the size of the output now matches the size of the image therefore we can stop here\n",
        "  #we now introduce the convolution layers to bring in more computation powers\n",
        "  model.add(Conv2D(128,4,padding='same'))\n",
        "  model.add(LeakyReLU(0.2))\n",
        "\n",
        "  model.add(Conv2D(128,4,padding='same'))\n",
        "  model.add(LeakyReLU(0.2))\n",
        "\n",
        "  #conv layer to get to one color channel\n",
        "  model.add(Conv2D(1,4,padding='same',activation='sigmoid'))\n",
        "\n",
        "  return model"
      ],
      "metadata": {
        "id": "rMWHAluJXTlu"
      },
      "execution_count": null,
      "outputs": []
    },
    {
      "cell_type": "code",
      "source": [
        "generator=build_generator()\n",
        "generator.summary()"
      ],
      "metadata": {
        "colab": {
          "base_uri": "https://localhost:8080/"
        },
        "id": "RxvG85FaXzIm",
        "outputId": "a8e4741e-e6f7-4d59-d48c-207c224b15f1"
      },
      "execution_count": null,
      "outputs": [
        {
          "output_type": "stream",
          "name": "stdout",
          "text": [
            "Model: \"sequential_16\"\n",
            "_________________________________________________________________\n",
            " Layer (type)                Output Shape              Param #   \n",
            "=================================================================\n",
            " dense_13 (Dense)            (None, 6272)              809088    \n",
            "                                                                 \n",
            " leaky_re_lu_50 (LeakyReLU)  (None, 6272)              0         \n",
            "                                                                 \n",
            " reshape_9 (Reshape)         (None, 7, 7, 128)         0         \n",
            "                                                                 \n",
            " up_sampling2d_11 (UpSamplin  (None, 14, 14, 128)      0         \n",
            " g2D)                                                            \n",
            "                                                                 \n",
            " conv2d_44 (Conv2D)          (None, 14, 14, 128)       409728    \n",
            "                                                                 \n",
            " leaky_re_lu_51 (LeakyReLU)  (None, 14, 14, 128)       0         \n",
            "                                                                 \n",
            " up_sampling2d_12 (UpSamplin  (None, 28, 28, 128)      0         \n",
            " g2D)                                                            \n",
            "                                                                 \n",
            " conv2d_45 (Conv2D)          (None, 28, 28, 1)         3201      \n",
            "                                                                 \n",
            " leaky_re_lu_52 (LeakyReLU)  (None, 28, 28, 1)         0         \n",
            "                                                                 \n",
            " conv2d_46 (Conv2D)          (None, 28, 28, 128)       2176      \n",
            "                                                                 \n",
            " leaky_re_lu_53 (LeakyReLU)  (None, 28, 28, 128)       0         \n",
            "                                                                 \n",
            " conv2d_47 (Conv2D)          (None, 28, 28, 128)       262272    \n",
            "                                                                 \n",
            " leaky_re_lu_54 (LeakyReLU)  (None, 28, 28, 128)       0         \n",
            "                                                                 \n",
            " conv2d_48 (Conv2D)          (None, 28, 28, 1)         2049      \n",
            "                                                                 \n",
            "=================================================================\n",
            "Total params: 1,488,514\n",
            "Trainable params: 1,488,514\n",
            "Non-trainable params: 0\n",
            "_________________________________________________________________\n"
          ]
        }
      ]
    },
    {
      "cell_type": "code",
      "source": [
        "img=generator.predict(np.random.randn(4,128,1))\n",
        "img #4 images will be created"
      ],
      "metadata": {
        "colab": {
          "base_uri": "https://localhost:8080/"
        },
        "id": "ERx-U4uke0Jx",
        "outputId": "4c404f6d-cefc-4818-c537-f0733d7cc828"
      },
      "execution_count": null,
      "outputs": [
        {
          "output_type": "stream",
          "name": "stdout",
          "text": [
            "1/1 [==============================] - 0s 79ms/step\n"
          ]
        },
        {
          "output_type": "execute_result",
          "data": {
            "text/plain": [
              "array([[[[0.5004924 ],\n",
              "         [0.5024632 ],\n",
              "         [0.50160253],\n",
              "         ...,\n",
              "         [0.50056183],\n",
              "         [0.50085914],\n",
              "         [0.50051606]],\n",
              "\n",
              "        [[0.50112236],\n",
              "         [0.502419  ],\n",
              "         [0.50295365],\n",
              "         ...,\n",
              "         [0.5000363 ],\n",
              "         [0.50061035],\n",
              "         [0.50005156]],\n",
              "\n",
              "        [[0.50141394],\n",
              "         [0.5027983 ],\n",
              "         [0.50216776],\n",
              "         ...,\n",
              "         [0.50111824],\n",
              "         [0.50117767],\n",
              "         [0.5001732 ]],\n",
              "\n",
              "        ...,\n",
              "\n",
              "        [[0.5016438 ],\n",
              "         [0.50293493],\n",
              "         [0.5032272 ],\n",
              "         ...,\n",
              "         [0.5002937 ],\n",
              "         [0.5001    ],\n",
              "         [0.5001745 ]],\n",
              "\n",
              "        [[0.5010747 ],\n",
              "         [0.50133294],\n",
              "         [0.5017345 ],\n",
              "         ...,\n",
              "         [0.49996164],\n",
              "         [0.4998703 ],\n",
              "         [0.49987668]],\n",
              "\n",
              "        [[0.5008883 ],\n",
              "         [0.50077367],\n",
              "         [0.500512  ],\n",
              "         ...,\n",
              "         [0.49980542],\n",
              "         [0.49984482],\n",
              "         [0.4999202 ]]],\n",
              "\n",
              "\n",
              "       [[[0.49980918],\n",
              "         [0.49996498],\n",
              "         [0.5008545 ],\n",
              "         ...,\n",
              "         [0.500728  ],\n",
              "         [0.50011814],\n",
              "         [0.500044  ]],\n",
              "\n",
              "        [[0.50059247],\n",
              "         [0.50158834],\n",
              "         [0.501195  ],\n",
              "         ...,\n",
              "         [0.50068027],\n",
              "         [0.49997294],\n",
              "         [0.49992368]],\n",
              "\n",
              "        [[0.50008076],\n",
              "         [0.4996711 ],\n",
              "         [0.49975732],\n",
              "         ...,\n",
              "         [0.5007951 ],\n",
              "         [0.5003922 ],\n",
              "         [0.500012  ]],\n",
              "\n",
              "        ...,\n",
              "\n",
              "        [[0.5008387 ],\n",
              "         [0.499607  ],\n",
              "         [0.4996788 ],\n",
              "         ...,\n",
              "         [0.5004003 ],\n",
              "         [0.49976975],\n",
              "         [0.5001635 ]],\n",
              "\n",
              "        [[0.5005692 ],\n",
              "         [0.5003201 ],\n",
              "         [0.5006998 ],\n",
              "         ...,\n",
              "         [0.49971658],\n",
              "         [0.4999461 ],\n",
              "         [0.5001833 ]],\n",
              "\n",
              "        [[0.50061715],\n",
              "         [0.49962226],\n",
              "         [0.49965745],\n",
              "         ...,\n",
              "         [0.49985808],\n",
              "         [0.49979573],\n",
              "         [0.50007993]]],\n",
              "\n",
              "\n",
              "       [[[0.5009762 ],\n",
              "         [0.5015898 ],\n",
              "         [0.5019301 ],\n",
              "         ...,\n",
              "         [0.502066  ],\n",
              "         [0.50231755],\n",
              "         [0.5011014 ]],\n",
              "\n",
              "        [[0.50088423],\n",
              "         [0.50120544],\n",
              "         [0.5015432 ],\n",
              "         ...,\n",
              "         [0.5031554 ],\n",
              "         [0.5018591 ],\n",
              "         [0.50095385]],\n",
              "\n",
              "        [[0.49921003],\n",
              "         [0.50082684],\n",
              "         [0.50157094],\n",
              "         ...,\n",
              "         [0.5030918 ],\n",
              "         [0.5022202 ],\n",
              "         [0.5016373 ]],\n",
              "\n",
              "        ...,\n",
              "\n",
              "        [[0.5017204 ],\n",
              "         [0.5023129 ],\n",
              "         [0.5017346 ],\n",
              "         ...,\n",
              "         [0.49978924],\n",
              "         [0.499992  ],\n",
              "         [0.4999939 ]],\n",
              "\n",
              "        [[0.5007899 ],\n",
              "         [0.5005754 ],\n",
              "         [0.50124544],\n",
              "         ...,\n",
              "         [0.4999461 ],\n",
              "         [0.49999186],\n",
              "         [0.49983466]],\n",
              "\n",
              "        [[0.500683  ],\n",
              "         [0.5016003 ],\n",
              "         [0.5017901 ],\n",
              "         ...,\n",
              "         [0.5000874 ],\n",
              "         [0.5000244 ],\n",
              "         [0.4999213 ]]],\n",
              "\n",
              "\n",
              "       [[[0.50015485],\n",
              "         [0.5021811 ],\n",
              "         [0.50370497],\n",
              "         ...,\n",
              "         [0.5048248 ],\n",
              "         [0.50425965],\n",
              "         [0.50238705]],\n",
              "\n",
              "        [[0.5026521 ],\n",
              "         [0.5057012 ],\n",
              "         [0.5052848 ],\n",
              "         ...,\n",
              "         [0.5052603 ],\n",
              "         [0.5045893 ],\n",
              "         [0.5015545 ]],\n",
              "\n",
              "        [[0.5041977 ],\n",
              "         [0.5075021 ],\n",
              "         [0.50766855],\n",
              "         ...,\n",
              "         [0.5075856 ],\n",
              "         [0.50519115],\n",
              "         [0.5012367 ]],\n",
              "\n",
              "        ...,\n",
              "\n",
              "        [[0.49986312],\n",
              "         [0.50046253],\n",
              "         [0.50208855],\n",
              "         ...,\n",
              "         [0.50166744],\n",
              "         [0.5003615 ],\n",
              "         [0.49996838]],\n",
              "\n",
              "        [[0.5001707 ],\n",
              "         [0.49985754],\n",
              "         [0.50041604],\n",
              "         ...,\n",
              "         [0.5012506 ],\n",
              "         [0.50012773],\n",
              "         [0.49999604]],\n",
              "\n",
              "        [[0.5004551 ],\n",
              "         [0.4998616 ],\n",
              "         [0.50026697],\n",
              "         ...,\n",
              "         [0.49992988],\n",
              "         [0.49969253],\n",
              "         [0.4997392 ]]]], dtype=float32)"
            ]
          },
          "metadata": {},
          "execution_count": 140
        }
      ]
    },
    {
      "cell_type": "code",
      "source": [
        "fig,ax=plt.subplots(ncols=4,figsize=(20,20)) #size of the plot and the number of columns\n",
        "#ax is the individual subplot\n",
        "#we loop 4 times to get four images\n",
        "#each contains the image and the label\n",
        "for idx,img in enumerate(img):\n",
        "\n",
        "  #here squeeze reduces the dimension from 28x28x1 to 28x28\n",
        "  #plot the image using a specific subplot\n",
        "  ax[idx].imshow(np.squeeze(img)) #this prints the image\n",
        "  ax[idx].title.set_text(idx) #this contains the label"
      ],
      "metadata": {
        "colab": {
          "base_uri": "https://localhost:8080/",
          "height": 176
        },
        "id": "aHRrfHTPfWJ_",
        "outputId": "3783c914-b474-42de-d21c-00d5eee4e4a6"
      },
      "execution_count": null,
      "outputs": [
        {
          "output_type": "display_data",
          "data": {
            "text/plain": [
              "<Figure size 2000x2000 with 4 Axes>"
            ],
            "image/png": "[encoded data removed]"
          },
          "metadata": {}
        }
      ]
    },
    {
      "cell_type": "markdown",
      "source": [
        "BUILD DISCRIMINATOR"
      ],
      "metadata": {
        "id": "46TofMg7gh_J"
      }
    },
    {
      "cell_type": "code",
      "source": [
        "def build_discriminator():\n",
        "  model=Sequential()\n",
        "\n",
        "  #add first convolutional layer\n",
        "  model.add(Conv2D(32,5,input_shape=(28,28,1))) #this take in the image from the generator\n",
        "  model.add(LeakyReLU(0.2)) #leaky relu activation  layer\n",
        "  model.add(Dropout(0.4)) #we add dropout layer to stop overfitting\n",
        "\n",
        "\n",
        "  #add second convolutional layer\n",
        "  model.add(Conv2D(64,5)) #this take in the image from the generator\n",
        "  model.add(LeakyReLU(0.2)) #leaky relu activation  layer\n",
        "  model.add(Dropout(0.4)) #we add dropout layer to stop overfitting\n",
        "\n",
        "  #add third convolutional layer\n",
        "  model.add(Conv2D(128,5)) #this take in the image from the generator\n",
        "  model.add(LeakyReLU(0.2)) #leaky relu activation  layer\n",
        "  model.add(Dropout(0.4)) #we add dropout layer to stop overfitting\n",
        "\n",
        "  #add fourth convolutional layer\n",
        "  model.add(Conv2D(256,5)) #this take in the image from the generator\n",
        "  model.add(LeakyReLU(0.2)) #leaky relu activation  layer\n",
        "  model.add(Dropout(0.4)) #we add dropout layer to stop overfitting\n",
        "\n",
        "  #flatten and then pass to the dense layer\n",
        "  model.add(Flatten())\n",
        "  model.add(Dropout(0.4))\n",
        "  model.add(Dense(1,activation='sigmoid'))\n",
        "\n",
        "\n",
        "\n",
        "  return model\n"
      ],
      "metadata": {
        "id": "vgKAEHeLglQw"
      },
      "execution_count": null,
      "outputs": []
    },
    {
      "cell_type": "code",
      "source": [
        "discriminator=build_discriminator()\n",
        "discriminator.summary()"
      ],
      "metadata": {
        "colab": {
          "base_uri": "https://localhost:8080/"
        },
        "id": "tcD4t37HgwtF",
        "outputId": "5004fca0-4cec-4264-a867-e54e3ba58f80"
      },
      "execution_count": null,
      "outputs": [
        {
          "output_type": "stream",
          "name": "stdout",
          "text": [
            "Model: \"sequential_18\"\n",
            "_________________________________________________________________\n",
            " Layer (type)                Output Shape              Param #   \n",
            "=================================================================\n",
            " conv2d_53 (Conv2D)          (None, 24, 24, 32)        832       \n",
            "                                                                 \n",
            " leaky_re_lu_59 (LeakyReLU)  (None, 24, 24, 32)        0         \n",
            "                                                                 \n",
            " dropout_33 (Dropout)        (None, 24, 24, 32)        0         \n",
            "                                                                 \n",
            " conv2d_54 (Conv2D)          (None, 20, 20, 64)        51264     \n",
            "                                                                 \n",
            " leaky_re_lu_60 (LeakyReLU)  (None, 20, 20, 64)        0         \n",
            "                                                                 \n",
            " dropout_34 (Dropout)        (None, 20, 20, 64)        0         \n",
            "                                                                 \n",
            " conv2d_55 (Conv2D)          (None, 16, 16, 128)       204928    \n",
            "                                                                 \n",
            " leaky_re_lu_61 (LeakyReLU)  (None, 16, 16, 128)       0         \n",
            "                                                                 \n",
            " dropout_35 (Dropout)        (None, 16, 16, 128)       0         \n",
            "                                                                 \n",
            " conv2d_56 (Conv2D)          (None, 12, 12, 256)       819456    \n",
            "                                                                 \n",
            " leaky_re_lu_62 (LeakyReLU)  (None, 12, 12, 256)       0         \n",
            "                                                                 \n",
            " dropout_36 (Dropout)        (None, 12, 12, 256)       0         \n",
            "                                                                 \n",
            " flatten_5 (Flatten)         (None, 36864)             0         \n",
            "                                                                 \n",
            " dropout_37 (Dropout)        (None, 36864)             0         \n",
            "                                                                 \n",
            " dense_15 (Dense)            (None, 1)                 36865     \n",
            "                                                                 \n",
            "=================================================================\n",
            "Total params: 1,113,345\n",
            "Trainable params: 1,113,345\n",
            "Non-trainable params: 0\n",
            "_________________________________________________________________\n"
          ]
        }
      ]
    },
    {
      "cell_type": "code",
      "source": [
        "discriminator.predict(img)"
      ],
      "metadata": {
        "colab": {
          "base_uri": "https://localhost:8080/"
        },
        "id": "q_CNixiJBNKF",
        "outputId": "eb4d811b-40f0-4eba-83a0-123083ce0112"
      },
      "execution_count": null,
      "outputs": [
        {
          "output_type": "stream",
          "name": "stderr",
          "text": [
            "WARNING:tensorflow:6 out of the last 12 calls to <function Model.make_predict_function.<locals>.predict_function at 0x7fb83e39d000> triggered tf.function retracing. Tracing is expensive and the excessive number of tracings could be due to (1) creating @tf.function repeatedly in a loop, (2) passing tensors with different shapes, (3) passing Python objects instead of tensors. For (1), please define your @tf.function outside of the loop. For (2), @tf.function has reduce_retracing=True option that can avoid unnecessary retracing. For (3), please refer to https://www.tensorflow.org/guide/function#controlling_retracing and https://www.tensorflow.org/api_docs/python/tf/function for  more details.\n"
          ]
        },
        {
          "output_type": "stream",
          "name": "stdout",
          "text": [
            "1/1 [==============================] - 0s 147ms/step\n"
          ]
        },
        {
          "output_type": "execute_result",
          "data": {
            "text/plain": [
              "array([[0.504413  ],\n",
              "       [0.50438666],\n",
              "       [0.5043974 ],\n",
              "       [0.50440115]], dtype=float32)"
            ]
          },
          "metadata": {},
          "execution_count": 142
        }
      ]
    },
    {
      "cell_type": "markdown",
      "source": [
        "TRAINING LOOP"
      ],
      "metadata": {
        "id": "feWxCh1ZlRpR"
      }
    },
    {
      "cell_type": "code",
      "source": [
        "#we set a loss function\n",
        "#optimizer for both , the discriminator and the generator\n",
        "from tensorflow.keras.optimizers import Adam\n",
        "from tensorflow.keras.losses import BinaryCrossentropy\n",
        "\n"
      ],
      "metadata": {
        "id": "8tftdzyelRC5"
      },
      "execution_count": null,
      "outputs": []
    },
    {
      "cell_type": "code",
      "source": [
        "g_opt=Adam(learning_rate=0.0001)\n",
        "d_opt=Adam(learning_rate=0.00001)\n",
        "g_loss=BinaryCrossentropy()\n",
        "d_loss=BinaryCrossentropy()\n"
      ],
      "metadata": {
        "id": "v7lXlpq0mI16"
      },
      "execution_count": null,
      "outputs": []
    },
    {
      "cell_type": "code",
      "source": [
        "#NOW we build the sub class model\n",
        "\n",
        "from tensorflow.keras.models import Model\n",
        "class FashionGan(Model):\n",
        "  def __init__(self,generator,disciminator,*args,**kwargs):\n",
        "    super().__init__(*args,*kwargs)\n",
        "\n",
        "    self.generator=generator\n",
        "    self.discriminator=discriminator\n",
        "\n",
        "\n",
        "  def compile(self,g_opt,d_opt,g_loss,d_loss,*args,**kwargs):\n",
        "    super().__init__(*args,**kwargs)\n",
        "\n",
        "    self.g_opt=g_opt\n",
        "    self.d_opt=d_opt\n",
        "    self.g_loss=g_loss\n",
        "    self.d_loss=d_loss\n",
        "\n",
        "\n",
        "  def train_step(self,batch):\n",
        "    real_images=batch\n",
        "    fake_images=self.generator(tf.random.normal((128,128,1)),training=False)\n",
        "\n",
        "    with tf.GradientTape() as d_tape:\n",
        "\n",
        "      y_hat_real=self.discriminator(real_images,training=True)\n",
        "      y_hat_fake=self.discriminator(fake_images,triaining=True)\n",
        "\n",
        "      yhat_real_fake=tf.concat([y_hat_real,y_hat_fake],axis=0)\n",
        "\n",
        "      y_realfake=tf.concat([tf.zeros_like(y_hat_real,y_hat_fake),tf.ones_like(y_hat_fake)],axis=0)\n",
        "\n",
        "      #now we add some noise to TRUE OUTPUTS\n",
        "      noise_real=0.15*tf.random.uniform(tf.shape(y_hat_real))\n",
        "      noise_fake=0.15*tf.random.uniform(tf.shape(y_hat_fake))\n",
        "      y_realfake+=tf.concat([noise_real,noise_fake],axis=0)\n",
        "\n",
        "      #calculate loss USING BINARY CROSS ENTROPY\n",
        "\n",
        "      total_d_loss=self.d_loss(y_realfake,yhat_real_fake)\n",
        "\n",
        "\n",
        "  #APPLY THE BACKPROPAGATION ALGORITHM\n",
        "    d_grad=d_tape.gradient(total_d_loss,self.discriminator.trainable_variables)\n",
        "    self.d_opt.apply_gradients(d_grad,self.discriminator.trainable_variables)\n",
        "\n",
        "    with tf.GradientTape() as g_tape:\n",
        "\n",
        "      gen_images=self.generator(tf.random.normal((128,128,1),training= True))\n",
        "     #create the predicted labels\n",
        "\n",
        "      predicted_labels=self.discriminator(gen_images,training=False)\n",
        "\n",
        "#calculate the loss\n",
        "      total_g_loss=self.g_loss(tf.zeros_like(predicted_labels),predicted_labels)\n",
        "  #apply the backpropagation\n",
        "\n",
        "    ggrad=g_tape.gradient(total_g_loss,self.generator.trainable_variables)\n",
        "    self.g_opt.apply_gradient(zip(ggrad,self.generator.trainable_variables))\n",
        "\n",
        "    return total_d_loss,total_g_loss\n"
      ],
      "metadata": {
        "id": "8Uo8W4a5mpg4"
      },
      "execution_count": null,
      "outputs": []
    },
    {
      "cell_type": "code",
      "source": [
        "fashgan=FashionGan(generator,discriminator)\n",
        "\n"
      ],
      "metadata": {
        "id": "RcyZpOlw79ot"
      },
      "execution_count": null,
      "outputs": []
    },
    {
      "cell_type": "code",
      "source": [
        "fashgan.compile(g_opt,d_opt,g_loss,d_loss)"
      ],
      "metadata": {
        "id": "UaHIDSftDovP"
      },
      "execution_count": null,
      "outputs": []
    },
    {
      "cell_type": "markdown",
      "source": [
        "Build Callback"
      ],
      "metadata": {
        "id": "NIrNXz2j8piS"
      }
    },
    {
      "cell_type": "code",
      "source": [
        "import os\n",
        "from tensorflow.keras.preprocessing.image import array_to_img\n",
        "from tensorflow.keras.callbacks import Callback\n",
        "#create custom call back after every epoch\n",
        "\n",
        "\n",
        "class ModelMonitor(Callback):\n",
        "  def __init__(self,num_img=3,latent_dim=128):\n",
        "    self.num_img=num_img\n",
        "    self.latent_dim=latent_dim\n",
        "  def on_epoch_end(self,epoch,logs=None):\n",
        "    random_latent_vectors=tf.rndom.uniform((self.num_img,self.latent_dim,1))\n",
        "    generated_images=self.model.generator(random_latent_vectors)\n",
        "    generated_images +=255\n",
        "    generated_images.numpy()\n",
        "    for i in range(self.num_img):\n",
        "      img=array_to_img(generated_images[i])\n",
        "      img.save(os.path.join('images',f'generated_img_{epoch}_{i}.png'))"
      ],
      "metadata": {
        "id": "kY1xfYgN8r2v"
      },
      "execution_count": null,
      "outputs": []
    },
    {
      "cell_type": "markdown",
      "source": [
        "TRAIN THE MODEL"
      ],
      "metadata": {
        "id": "TMr2If2--ypX"
      }
    },
    {
      "cell_type": "code",
      "source": [
        "ds.as_numpy_iterator().next().shape\n"
      ],
      "metadata": {
        "colab": {
          "base_uri": "https://localhost:8080/"
        },
        "id": "LhhPowN5-0bc",
        "outputId": "ee3e6858-a375-4f67-f927-8026831d51f3"
      },
      "execution_count": null,
      "outputs": [
        {
          "output_type": "execute_result",
          "data": {
            "text/plain": [
              "(128, 28, 28, 1)"
            ]
          },
          "metadata": {},
          "execution_count": 176
        }
      ]
    },
    {
      "cell_type": "code",
      "source": [
        "hist=fashgan.fit(ds,epochs=10)"
      ],
      "metadata": {
        "colab": {
          "base_uri": "https://localhost:8080/",
          "height": 351
        },
        "id": "5CLb7U6XAHX_",
        "outputId": "7572a61d-8eb1-46ee-8274-973266dec9f6"
      },
      "execution_count": null,
      "outputs": [
        {
          "output_type": "error",
          "ename": "RuntimeError",
          "evalue": "ignored",
          "traceback": [
            "\u001b[0;31m---------------------------------------------------------------------------\u001b[0m",
            "\u001b[0;31mRuntimeError\u001b[0m                              Traceback (most recent call last)",
            "\u001b[0;32m<ipython-input-177-1f33dfb6da30>\u001b[0m in \u001b[0;36m<cell line: 1>\u001b[0;34m()\u001b[0m\n\u001b[0;32m----> 1\u001b[0;31m \u001b[0mhist\u001b[0m\u001b[0;34m=\u001b[0m\u001b[0mfashgan\u001b[0m\u001b[0;34m.\u001b[0m\u001b[0mfit\u001b[0m\u001b[0;34m(\u001b[0m\u001b[0mds\u001b[0m\u001b[0;34m,\u001b[0m\u001b[0mepochs\u001b[0m\u001b[0;34m=\u001b[0m\u001b[0;36m10\u001b[0m\u001b[0;34m)\u001b[0m\u001b[0;34m\u001b[0m\u001b[0;34m\u001b[0m\u001b[0m\n\u001b[0m",
            "\u001b[0;32m/usr/local/lib/python3.10/dist-packages/keras/utils/traceback_utils.py\u001b[0m in \u001b[0;36merror_handler\u001b[0;34m(*args, **kwargs)\u001b[0m\n\u001b[1;32m     68\u001b[0m             \u001b[0;31m# To get the full stack trace, call:\u001b[0m\u001b[0;34m\u001b[0m\u001b[0;34m\u001b[0m\u001b[0m\n\u001b[1;32m     69\u001b[0m             \u001b[0;31m# `tf.debugging.disable_traceback_filtering()`\u001b[0m\u001b[0;34m\u001b[0m\u001b[0;34m\u001b[0m\u001b[0m\n\u001b[0;32m---> 70\u001b[0;31m             \u001b[0;32mraise\u001b[0m \u001b[0me\u001b[0m\u001b[0;34m.\u001b[0m\u001b[0mwith_traceback\u001b[0m\u001b[0;34m(\u001b[0m\u001b[0mfiltered_tb\u001b[0m\u001b[0;34m)\u001b[0m \u001b[0;32mfrom\u001b[0m \u001b[0;32mNone\u001b[0m\u001b[0;34m\u001b[0m\u001b[0;34m\u001b[0m\u001b[0m\n\u001b[0m\u001b[1;32m     71\u001b[0m         \u001b[0;32mfinally\u001b[0m\u001b[0;34m:\u001b[0m\u001b[0;34m\u001b[0m\u001b[0;34m\u001b[0m\u001b[0m\n\u001b[1;32m     72\u001b[0m             \u001b[0;32mdel\u001b[0m \u001b[0mfiltered_tb\u001b[0m\u001b[0;34m\u001b[0m\u001b[0;34m\u001b[0m\u001b[0m\n",
            "\u001b[0;32m/usr/local/lib/python3.10/dist-packages/keras/engine/training.py\u001b[0m in \u001b[0;36m_assert_compile_was_called\u001b[0;34m(self)\u001b[0m\n\u001b[1;32m   3683\u001b[0m         \u001b[0;31m# (i.e. whether the model is built and its inputs/outputs are set).\u001b[0m\u001b[0;34m\u001b[0m\u001b[0;34m\u001b[0m\u001b[0m\n\u001b[1;32m   3684\u001b[0m         \u001b[0;32mif\u001b[0m \u001b[0;32mnot\u001b[0m \u001b[0mself\u001b[0m\u001b[0;34m.\u001b[0m\u001b[0m_is_compiled\u001b[0m\u001b[0;34m:\u001b[0m\u001b[0;34m\u001b[0m\u001b[0;34m\u001b[0m\u001b[0m\n\u001b[0;32m-> 3685\u001b[0;31m             raise RuntimeError(\n\u001b[0m\u001b[1;32m   3686\u001b[0m                 \u001b[0;34m\"You must compile your model before \"\u001b[0m\u001b[0;34m\u001b[0m\u001b[0;34m\u001b[0m\u001b[0m\n\u001b[1;32m   3687\u001b[0m                 \u001b[0;34m\"training/testing. \"\u001b[0m\u001b[0;34m\u001b[0m\u001b[0;34m\u001b[0m\u001b[0m\n",
            "\u001b[0;31mRuntimeError\u001b[0m: You must compile your model before training/testing. Use `model.compile(optimizer, loss)`."
          ]
        }
      ]
    },
    {
      "cell_type": "code",
      "source": [
        "plt.suptitle('LOSS')\n",
        "plt.plot(hist.history['d_loss'],label='d_loss')\n",
        "plt.plot(hist.history['g_loss'],label='d_loss')\n",
        "plt.legend()\n",
        "plt.show()"
      ],
      "metadata": {
        "colab": {
          "base_uri": "https://localhost:8080/",
          "height": 245
        },
        "id": "eoVxqqe8Br9b",
        "outputId": "8d6eff7c-0e9a-4c81-8d1c-3e4e68404c3d"
      },
      "execution_count": null,
      "outputs": [
        {
          "output_type": "error",
          "ename": "NameError",
          "evalue": "ignored",
          "traceback": [
            "\u001b[0;31m---------------------------------------------------------------------------\u001b[0m",
            "\u001b[0;31mNameError\u001b[0m                                 Traceback (most recent call last)",
            "\u001b[0;32m<ipython-input-148-5a3dd7b5b010>\u001b[0m in \u001b[0;36m<cell line: 2>\u001b[0;34m()\u001b[0m\n\u001b[1;32m      1\u001b[0m \u001b[0mplt\u001b[0m\u001b[0;34m.\u001b[0m\u001b[0msuptitle\u001b[0m\u001b[0;34m(\u001b[0m\u001b[0;34m'LOSS'\u001b[0m\u001b[0;34m)\u001b[0m\u001b[0;34m\u001b[0m\u001b[0;34m\u001b[0m\u001b[0m\n\u001b[0;32m----> 2\u001b[0;31m \u001b[0mplt\u001b[0m\u001b[0;34m.\u001b[0m\u001b[0mplot\u001b[0m\u001b[0;34m(\u001b[0m\u001b[0mhist\u001b[0m\u001b[0;34m.\u001b[0m\u001b[0mhistory\u001b[0m\u001b[0;34m[\u001b[0m\u001b[0;34m'd_loss'\u001b[0m\u001b[0;34m]\u001b[0m\u001b[0;34m,\u001b[0m\u001b[0mlabel\u001b[0m\u001b[0;34m=\u001b[0m\u001b[0;34m'd_loss'\u001b[0m\u001b[0;34m)\u001b[0m\u001b[0;34m\u001b[0m\u001b[0;34m\u001b[0m\u001b[0m\n\u001b[0m\u001b[1;32m      3\u001b[0m \u001b[0mplt\u001b[0m\u001b[0;34m.\u001b[0m\u001b[0mplot\u001b[0m\u001b[0;34m(\u001b[0m\u001b[0mhist\u001b[0m\u001b[0;34m.\u001b[0m\u001b[0mhistory\u001b[0m\u001b[0;34m[\u001b[0m\u001b[0;34m'g_loss'\u001b[0m\u001b[0;34m]\u001b[0m\u001b[0;34m,\u001b[0m\u001b[0mlabel\u001b[0m\u001b[0;34m=\u001b[0m\u001b[0;34m'd_loss'\u001b[0m\u001b[0;34m)\u001b[0m\u001b[0;34m\u001b[0m\u001b[0;34m\u001b[0m\u001b[0m\n\u001b[1;32m      4\u001b[0m \u001b[0mplt\u001b[0m\u001b[0;34m.\u001b[0m\u001b[0mlegend\u001b[0m\u001b[0;34m(\u001b[0m\u001b[0;34m)\u001b[0m\u001b[0;34m\u001b[0m\u001b[0;34m\u001b[0m\u001b[0m\n\u001b[1;32m      5\u001b[0m \u001b[0mplt\u001b[0m\u001b[0;34m.\u001b[0m\u001b[0mshow\u001b[0m\u001b[0;34m(\u001b[0m\u001b[0;34m)\u001b[0m\u001b[0;34m\u001b[0m\u001b[0;34m\u001b[0m\u001b[0m\n",
            "\u001b[0;31mNameError\u001b[0m: name 'hist' is not defined"
          ]
        },
        {
          "output_type": "display_data",
          "data": {
            "text/plain": [
              "<Figure size 640x480 with 0 Axes>"
            ]
          },
          "metadata": {}
        }
      ]
    }
  ]
}